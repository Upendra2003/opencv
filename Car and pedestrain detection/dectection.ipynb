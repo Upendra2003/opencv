{
 "cells": [
  {
   "cell_type": "code",
   "execution_count": 1,
   "id": "014b3215",
   "metadata": {},
   "outputs": [],
   "source": [
    "import numpy as np\n",
    "import cv2 as cv"
   ]
  },
  {
   "cell_type": "code",
   "execution_count": 2,
   "id": "6db2e7f8",
   "metadata": {},
   "outputs": [],
   "source": [
    "import cv2 as cv\n",
    "\n",
    "# Load the body classifier\n",
    "body_classifier = cv.CascadeClassifier('Haarcascades/haarcascade_fullbody.xml')\n",
    "\n",
    "# Open the video file\n",
    "cap = cv.VideoCapture('walking.mp4')\n",
    "\n",
    "# Check if the video opened successfully\n",
    "if not cap.isOpened():\n",
    "    print(\"Error: Failed to open video.\")\n",
    "    exit()\n",
    "\n",
    "while True:\n",
    "    # Read a frame from the video\n",
    "    ret, frame = cap.read()\n",
    "\n",
    "    # Check if the frame was read successfully\n",
    "    if not ret:\n",
    "        break\n",
    "\n",
    "    # Resize the frame\n",
    "    frame = cv.resize(frame, None, fx=0.5, fy=0.5, interpolation=cv.INTER_LINEAR)\n",
    "\n",
    "    # Convert the frame to grayscale\n",
    "    gray = cv.cvtColor(frame, cv.COLOR_BGR2GRAY)\n",
    "\n",
    "    # Detect bodies in the frame\n",
    "    bodies = body_classifier.detectMultiScale(gray, 1.2, 3)\n",
    "\n",
    "    # Draw rectangles around the detected bodies\n",
    "    for (x, y, w, h) in bodies:\n",
    "        cv.rectangle(frame, (x, y), (x+w, y+h), (0, 255, 0), 2)\n",
    "\n",
    "    # Display the frame with detected bodies\n",
    "    cv.imshow('Pedestrians', frame)\n",
    "\n",
    "    # Check for key press\n",
    "    if cv.waitKey(1) == 13:  # 13 is the Enter key\n",
    "        break\n",
    "\n",
    "# Release the video capture object and close all windows\n",
    "cap.release()\n",
    "cv.destroyAllWindows()\n"
   ]
  },
  {
   "cell_type": "code",
   "execution_count": null,
   "id": "910da52c",
   "metadata": {},
   "outputs": [],
   "source": []
  },
  {
   "cell_type": "code",
   "execution_count": null,
   "id": "5c3c0eaf",
   "metadata": {},
   "outputs": [],
   "source": []
  }
 ],
 "metadata": {
  "kernelspec": {
   "display_name": "Python 3 (ipykernel)",
   "language": "python",
   "name": "python3"
  },
  "language_info": {
   "codemirror_mode": {
    "name": "ipython",
    "version": 3
   },
   "file_extension": ".py",
   "mimetype": "text/x-python",
   "name": "python",
   "nbconvert_exporter": "python",
   "pygments_lexer": "ipython3",
   "version": "3.10.8"
  }
 },
 "nbformat": 4,
 "nbformat_minor": 5
}
