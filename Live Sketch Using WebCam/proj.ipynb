{
 "cells": [
  {
   "cell_type": "code",
   "execution_count": 1,
   "id": "f2e09151",
   "metadata": {},
   "outputs": [],
   "source": [
    "import cv2 as cv\n",
    "import numpy as np"
   ]
  },
  {
   "cell_type": "code",
   "execution_count": 7,
   "id": "5a6777d3",
   "metadata": {},
   "outputs": [],
   "source": [
    "def sketch(image):\n",
    "    #convert to grayscale\n",
    "    image_gray=cv.cvtColor(image,cv.COLOR_BGR2GRAY)\n",
    "    \n",
    "    #clean the img using gaussian blur\n",
    "    cleaned_image=cv.GaussianBlur(image_gray,(5,5),0)\n",
    "    \n",
    "    #exxtract edges\n",
    "    canny_edges=cv.Canny(cleaned_image,10,70)\n",
    "    \n",
    "    #invert binarize the img\n",
    "    ret,mask=cv.threshold(canny_edges,70,255,cv.THRESH_BINARY_INV)\n",
    "    \n",
    "    return mask"
   ]
  },
  {
   "cell_type": "code",
   "execution_count": 6,
   "id": "7db2f4b3",
   "metadata": {},
   "outputs": [],
   "source": [
    "cap=cv.VideoCapture(0)\n",
    "\n",
    "while True:\n",
    "    ret,frame=cap.read()\n",
    "    cv.imshow(\"Live Sketcher\",sketch(frame))\n",
    "    if cv.waitKey(1) == 13:\n",
    "        break\n",
    "        \n",
    "cap.release()\n",
    "cv.destroyAllWindows()"
   ]
  },
  {
   "cell_type": "code",
   "execution_count": null,
   "id": "ad38647e",
   "metadata": {},
   "outputs": [],
   "source": []
  }
 ],
 "metadata": {
  "kernelspec": {
   "display_name": "Python 3 (ipykernel)",
   "language": "python",
   "name": "python3"
  },
  "language_info": {
   "codemirror_mode": {
    "name": "ipython",
    "version": 3
   },
   "file_extension": ".py",
   "mimetype": "text/x-python",
   "name": "python",
   "nbconvert_exporter": "python",
   "pygments_lexer": "ipython3",
   "version": "3.10.8"
  }
 },
 "nbformat": 4,
 "nbformat_minor": 5
}
