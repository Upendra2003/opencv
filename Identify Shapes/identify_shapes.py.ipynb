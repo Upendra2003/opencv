{
 "cells": [
  {
   "cell_type": "code",
   "execution_count": 1,
   "id": "2961c38e",
   "metadata": {},
   "outputs": [],
   "source": [
    "import cv2 as cv\n",
    "import numpy as np"
   ]
  },
  {
   "cell_type": "code",
   "execution_count": 14,
   "id": "6f24ef46",
   "metadata": {},
   "outputs": [],
   "source": [
    "img=cv.imread('shapes.jpg')\n",
    "img=cv.resize(img,(500,500))\n",
    "gray_img=cv.cvtColor(img,cv.COLOR_BGR2GRAY)\n",
    "gray_img=cv.resize(gray_img,(500,500))"
   ]
  },
  {
   "cell_type": "code",
   "execution_count": 16,
   "id": "48c0fd51",
   "metadata": {},
   "outputs": [
    {
     "data": {
      "text/plain": [
       "-1"
      ]
     },
     "execution_count": 16,
     "metadata": {},
     "output_type": "execute_result"
    }
   ],
   "source": [
    "cv.imshow(\"Identifying shapes\",gray_img)\n",
    "cv.waitKey(0)"
   ]
  },
  {
   "cell_type": "code",
   "execution_count": 17,
   "id": "9b834f97",
   "metadata": {},
   "outputs": [],
   "source": [
    "ret,thresh=cv.threshold(gray_img,127,255,1)"
   ]
  },
  {
   "cell_type": "code",
   "execution_count": 18,
   "id": "795a97e1",
   "metadata": {},
   "outputs": [],
   "source": [
    "contours,hierarchy=cv.findContours(thresh.copy(),cv.RETR_LIST,cv.CHAIN_APPROX_NONE)"
   ]
  },
  {
   "cell_type": "code",
   "execution_count": 19,
   "id": "abd166a8",
   "metadata": {},
   "outputs": [],
   "source": [
    "for cnt in contours:\n",
    "    # Approximate the contour to simplify it\n",
    "    epsilon = 0.01 * cv.arcLength(cnt, True)\n",
    "    approx = cv.approxPolyDP(cnt, epsilon, True)\n",
    "    \n",
    "    # Check if the contour is a triangle\n",
    "    if len(approx) == 3:\n",
    "        shape_name = 'Triangle'\n",
    "        cv.drawContours(img, [cnt], 0, (0, 255, 0), -1)\n",
    "        \n",
    "        # Calculate centroid of the triangle\n",
    "        M = cv.moments(cnt)\n",
    "        cx = int(M['m10'] / M['m00'])\n",
    "        cy = int(M['m01'] / M['m00'])\n",
    "        \n",
    "        # Draw text on the image\n",
    "        cv.putText(img, shape_name, (cx-50, cy), cv.FONT_HERSHEY_SIMPLEX, 1, (0, 0, 0), 1)"
   ]
  },
  {
   "cell_type": "code",
   "execution_count": null,
   "id": "74176884",
   "metadata": {},
   "outputs": [],
   "source": [
    "cv.imshow('Image with Contours and Text', img)\n",
    "cv.waitKey(0)\n",
    "cv.destroyAllWindows()"
   ]
  },
  {
   "cell_type": "code",
   "execution_count": null,
   "id": "c3f2ce75",
   "metadata": {},
   "outputs": [],
   "source": []
  }
 ],
 "metadata": {
  "kernelspec": {
   "display_name": "Python 3 (ipykernel)",
   "language": "python",
   "name": "python3"
  },
  "language_info": {
   "codemirror_mode": {
    "name": "ipython",
    "version": 3
   },
   "file_extension": ".py",
   "mimetype": "text/x-python",
   "name": "python",
   "nbconvert_exporter": "python",
   "pygments_lexer": "ipython3",
   "version": "3.10.8"
  }
 },
 "nbformat": 4,
 "nbformat_minor": 5
}
